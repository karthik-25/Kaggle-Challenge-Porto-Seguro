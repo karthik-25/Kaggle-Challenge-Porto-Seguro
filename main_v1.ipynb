{
 "cells": [
  {
   "cell_type": "code",
   "execution_count": 17,
   "metadata": {
    "collapsed": false
   },
   "outputs": [],
   "source": [
    "import pandas as pd\n",
    "import numpy as np\n",
    "\n",
    "df = pd.read_csv(\"train.csv\")"
   ]
  },
  {
   "cell_type": "code",
   "execution_count": 2,
   "metadata": {
    "collapsed": false
   },
   "outputs": [],
   "source": [
    "#print df.describe()"
   ]
  },
  {
   "cell_type": "code",
   "execution_count": 3,
   "metadata": {
    "collapsed": false
   },
   "outputs": [
    {
     "name": "stdout",
     "output_type": "stream",
     "text": [
      "id                [7, 9, 13, 16, 17, 19, 20, 22, 26, 28, 34, 35,...\n",
      "ps_calc_01        [0.6, 0.3, 0.5, 0.4, 0.7, 0.2, 0.1, 0.9, 0.8, ...\n",
      "ps_calc_02        [0.5, 0.1, 0.7, 0.9, 0.6, 0.8, 0.4, 0.0, 0.3, ...\n",
      "ps_calc_03        [0.2, 0.3, 0.1, 0.0, 0.4, 0.5, 0.6, 0.8, 0.9, ...\n",
      "ps_calc_04                                       [3, 2, 1, 4, 0, 5]\n",
      "ps_calc_05                                    [1, 2, 4, 3, 0, 5, 6]\n",
      "ps_calc_06                       [10, 9, 7, 6, 8, 5, 4, 3, 2, 1, 0]\n",
      "ps_calc_07                           [1, 5, 3, 2, 4, 6, 0, 7, 8, 9]\n",
      "ps_calc_08                     [10, 8, 11, 6, 9, 7, 5, 12, 4, 3, 2]\n",
      "ps_calc_09                                 [1, 2, 4, 3, 0, 5, 6, 7]\n",
      "ps_calc_10        [5, 7, 2, 12, 8, 10, 13, 11, 9, 18, 4, 15, 6, ...\n",
      "ps_calc_11        [9, 3, 4, 2, 7, 6, 5, 10, 8, 1, 0, 13, 11, 12,...\n",
      "ps_calc_12                       [1, 2, 0, 5, 3, 4, 6, 7, 8, 9, 10]\n",
      "ps_calc_13           [5, 1, 7, 4, 0, 3, 6, 2, 8, 10, 9, 11, 12, 13]\n",
      "ps_calc_14        [8, 9, 7, 3, 10, 6, 5, 11, 4, 14, 13, 12, 16, ...\n",
      "ps_calc_15_bin                                               [0, 1]\n",
      "ps_calc_16_bin                                               [1, 0]\n",
      "ps_calc_17_bin                                               [1, 0]\n",
      "ps_calc_18_bin                                               [0, 1]\n",
      "ps_calc_19_bin                                               [0, 1]\n",
      "ps_calc_20_bin                                               [1, 0]\n",
      "ps_car_01_cat            [10, 11, 7, 6, 9, 5, 4, 8, 3, 0, 2, 1, -1]\n",
      "ps_car_02_cat                                            [1, 0, -1]\n",
      "ps_car_03_cat                                            [-1, 0, 1]\n",
      "ps_car_04_cat                        [0, 1, 8, 9, 2, 6, 3, 7, 4, 5]\n",
      "ps_car_05_cat                                            [1, -1, 0]\n",
      "ps_car_06_cat     [4, 11, 14, 13, 6, 15, 3, 0, 1, 10, 12, 9, 17,...\n",
      "ps_car_07_cat                                            [1, -1, 0]\n",
      "ps_car_08_cat                                                [0, 1]\n",
      "ps_car_09_cat                                   [0, 2, 3, 1, -1, 4]\n",
      "ps_car_10_cat                                             [1, 0, 2]\n",
      "ps_car_11                                          [2, 3, 1, 0, -1]\n",
      "ps_car_11_cat     [12, 19, 60, 104, 82, 99, 30, 68, 20, 36, 101,...\n",
      "ps_car_12         [0.4, 0.316227766, 0.3741657387, 0.3160696126,...\n",
      "ps_car_13         [0.8836789178, 0.6188165191, 0.6415857163, 0.5...\n",
      "ps_car_14         [0.3708099244, 0.3887158345, 0.3472751071, 0.2...\n",
      "ps_car_15         [3.6055512755, 2.4494897428, 3.3166247904, 2.0...\n",
      "ps_ind_01                                  [2, 1, 5, 0, 4, 3, 6, 7]\n",
      "ps_ind_02_cat                                      [2, 1, 4, 3, -1]\n",
      "ps_ind_03                    [5, 7, 9, 2, 0, 4, 3, 1, 11, 6, 8, 10]\n",
      "ps_ind_04_cat                                            [1, 0, -1]\n",
      "ps_ind_05_cat                             [0, 1, 4, 3, 6, 5, -1, 2]\n",
      "ps_ind_06_bin                                                [0, 1]\n",
      "ps_ind_07_bin                                                [1, 0]\n",
      "ps_ind_08_bin                                                [0, 1]\n",
      "ps_ind_09_bin                                                [0, 1]\n",
      "ps_ind_10_bin                                                [0, 1]\n",
      "ps_ind_11_bin                                                [0, 1]\n",
      "ps_ind_12_bin                                                [0, 1]\n",
      "ps_ind_13_bin                                                [0, 1]\n",
      "ps_ind_14                                           [0, 1, 2, 3, 4]\n",
      "ps_ind_15            [11, 3, 12, 8, 9, 6, 13, 4, 10, 5, 7, 2, 0, 1]\n",
      "ps_ind_16_bin                                                [0, 1]\n",
      "ps_ind_17_bin                                                [1, 0]\n",
      "ps_ind_18_bin                                                [0, 1]\n",
      "ps_reg_01         [0.7, 0.8, 0.0, 0.9, 0.6, 0.5, 0.4, 0.3, 0.2, ...\n",
      "ps_reg_02         [0.2, 0.4, 0.0, 0.6, 1.8, 0.1, 0.7, 1.4, 0.9, ...\n",
      "ps_reg_03         [0.7180703308, 0.7660776723, -1.0, 0.580947501...\n",
      "target                                                       [0, 1]\n",
      "dtype: object\n"
     ]
    }
   ],
   "source": [
    "#print list(train_df)\n",
    "from pprint import pprint\n",
    "\n",
    "d = {}\n",
    "for col in list(df):\n",
    "    unique_values = df[col].unique()\n",
    "    d[col] = unique_values\n",
    "\n",
    "unique_values_series = pd.Series(d)\n",
    "\n",
    "print unique_values_series"
   ]
  },
  {
   "cell_type": "code",
   "execution_count": 18,
   "metadata": {
    "collapsed": false
   },
   "outputs": [
    {
     "name": "stdout",
     "output_type": "stream",
     "text": [
      "['id', 'target', 'ps_ind_01', 'ps_ind_02_cat', 'ps_ind_03', 'ps_ind_04_cat', 'ps_ind_05_cat', 'ps_ind_06_bin', 'ps_ind_07_bin', 'ps_ind_08_bin', 'ps_ind_09_bin', 'ps_ind_10_bin', 'ps_ind_11_bin', 'ps_ind_12_bin', 'ps_ind_13_bin', 'ps_ind_14', 'ps_ind_15', 'ps_ind_16_bin', 'ps_ind_17_bin', 'ps_ind_18_bin', 'ps_reg_01', 'ps_reg_02', 'ps_reg_03', 'ps_car_01_cat', 'ps_car_02_cat', 'ps_car_03_cat', 'ps_car_04_cat', 'ps_car_05_cat', 'ps_car_06_cat', 'ps_car_07_cat', 'ps_car_08_cat', 'ps_car_09_cat', 'ps_car_10_cat', 'ps_car_11_cat', 'ps_car_11', 'ps_car_12', 'ps_car_13', 'ps_car_14', 'ps_car_15', 'ps_calc_01', 'ps_calc_02', 'ps_calc_03', 'ps_calc_04', 'ps_calc_05', 'ps_calc_06', 'ps_calc_07', 'ps_calc_08', 'ps_calc_09', 'ps_calc_10', 'ps_calc_11', 'ps_calc_12', 'ps_calc_13', 'ps_calc_14', 'ps_calc_15_bin', 'ps_calc_16_bin', 'ps_calc_17_bin', 'ps_calc_18_bin', 'ps_calc_19_bin', 'ps_calc_20_bin']\n"
     ]
    }
   ],
   "source": [
    "print list(df)\n",
    "\n",
    "df.drop(df.columns[0],axis=1,inplace=True)\n"
   ]
  },
  {
   "cell_type": "code",
   "execution_count": 19,
   "metadata": {
    "collapsed": false
   },
   "outputs": [
    {
     "name": "stdout",
     "output_type": "stream",
     "text": [
      "   target  ps_ind_01  ps_ind_02_cat  ps_ind_03  ps_ind_04_cat  ps_ind_05_cat  \\\n",
      "0       0          2              2          5              1              0   \n",
      "1       0          1              1          7              0              0   \n",
      "2       0          5              4          9              1              0   \n",
      "3       0          0              1          2              0              0   \n",
      "4       0          0              2          0              1              0   \n",
      "\n",
      "   ps_ind_06_bin  ps_ind_07_bin  ps_ind_08_bin  ps_ind_09_bin       ...        \\\n",
      "0              0              1              0              0       ...         \n",
      "1              0              0              1              0       ...         \n",
      "2              0              0              1              0       ...         \n",
      "3              1              0              0              0       ...         \n",
      "4              1              0              0              0       ...         \n",
      "\n",
      "   ps_calc_11  ps_calc_12  ps_calc_13  ps_calc_14  ps_calc_15_bin  \\\n",
      "0           9           1           5           8               0   \n",
      "1           3           1           1           9               0   \n",
      "2           4           2           7           7               0   \n",
      "3           2           2           4           9               0   \n",
      "4           3           1           1           3               0   \n",
      "\n",
      "   ps_calc_16_bin  ps_calc_17_bin  ps_calc_18_bin  ps_calc_19_bin  \\\n",
      "0               1               1               0               0   \n",
      "1               1               1               0               1   \n",
      "2               1               1               0               1   \n",
      "3               0               0               0               0   \n",
      "4               0               0               1               1   \n",
      "\n",
      "   ps_calc_20_bin  \n",
      "0               1  \n",
      "1               0  \n",
      "2               0  \n",
      "3               0  \n",
      "4               0  \n",
      "\n",
      "[5 rows x 58 columns]\n"
     ]
    }
   ],
   "source": [
    "print df.head()"
   ]
  },
  {
   "cell_type": "code",
   "execution_count": 20,
   "metadata": {
    "collapsed": false
   },
   "outputs": [
    {
     "name": "stdout",
     "output_type": "stream",
     "text": [
      "595212\n",
      "58\n"
     ]
    }
   ],
   "source": [
    "data_np_array = df.as_matrix()\n",
    "\n",
    "print len(data_np_array)\n",
    "print len(data_np_array[0])"
   ]
  },
  {
   "cell_type": "code",
   "execution_count": 21,
   "metadata": {
    "collapsed": true
   },
   "outputs": [],
   "source": [
    "def targetFeatureSplit( data ):\n",
    "    \"\"\" \n",
    "        given a numpy array like the one returned from\n",
    "        featureFormat, separate out the first feature\n",
    "        and put it into its own list (this should be the \n",
    "        quantity you want to predict)\n",
    "\n",
    "        return targets and features as separate lists\n",
    "\n",
    "        (sklearn can generally handle both lists and numpy arrays as \n",
    "        input formats when training/predicting)\n",
    "    \"\"\"\n",
    "\n",
    "    target = []\n",
    "    features = []\n",
    "    for item in data:\n",
    "        target.append( item[0] )\n",
    "        features.append( item[1:] )\n",
    "\n",
    "    return target, features"
   ]
  },
  {
   "cell_type": "code",
   "execution_count": 22,
   "metadata": {
    "collapsed": true
   },
   "outputs": [],
   "source": [
    "labels, features = targetFeatureSplit(data_np_array)"
   ]
  },
  {
   "cell_type": "code",
   "execution_count": 29,
   "metadata": {
    "collapsed": false
   },
   "outputs": [
    {
     "name": "stdout",
     "output_type": "stream",
     "text": [
      "<type 'list'>\n",
      "[0.0, 0.0, 0.0, 0.0, 0.0]\n",
      "<type 'list'>\n",
      "[array([  2.        ,   2.        ,   5.        ,   1.        ,\n",
      "         0.        ,   0.        ,   1.        ,   0.        ,\n",
      "         0.        ,   0.        ,   0.        ,   0.        ,\n",
      "         0.        ,   0.        ,  11.        ,   0.        ,\n",
      "         1.        ,   0.        ,   0.7       ,   0.2       ,\n",
      "         0.71807033,  10.        ,   1.        ,  -1.        ,\n",
      "         0.        ,   1.        ,   4.        ,   1.        ,\n",
      "         0.        ,   0.        ,   1.        ,  12.        ,\n",
      "         2.        ,   0.4       ,   0.88367892,   0.37080992,\n",
      "         3.60555128,   0.6       ,   0.5       ,   0.2       ,\n",
      "         3.        ,   1.        ,  10.        ,   1.        ,\n",
      "        10.        ,   1.        ,   5.        ,   9.        ,\n",
      "         1.        ,   5.        ,   8.        ,   0.        ,\n",
      "         1.        ,   1.        ,   0.        ,   0.        ,   1.        ]),\n",
      " array([  1.        ,   1.        ,   7.        ,   0.        ,\n",
      "         0.        ,   0.        ,   0.        ,   1.        ,\n",
      "         0.        ,   0.        ,   0.        ,   0.        ,\n",
      "         0.        ,   0.        ,   3.        ,   0.        ,\n",
      "         0.        ,   1.        ,   0.8       ,   0.4       ,\n",
      "         0.76607767,  11.        ,   1.        ,  -1.        ,\n",
      "         0.        ,  -1.        ,  11.        ,   1.        ,\n",
      "         1.        ,   2.        ,   1.        ,  19.        ,\n",
      "         3.        ,   0.31622777,   0.61881652,   0.38871583,\n",
      "         2.44948974,   0.3       ,   0.1       ,   0.3       ,\n",
      "         2.        ,   1.        ,   9.        ,   5.        ,\n",
      "         8.        ,   1.        ,   7.        ,   3.        ,\n",
      "         1.        ,   1.        ,   9.        ,   0.        ,\n",
      "         1.        ,   1.        ,   0.        ,   1.        ,   0.        ])]\n"
     ]
    }
   ],
   "source": [
    "from pprint import pprint\n",
    "print type(labels)\n",
    "print labels[:5]\n",
    "print type(features)\n",
    "pprint (features[:2])"
   ]
  },
  {
   "cell_type": "code",
   "execution_count": 32,
   "metadata": {
    "collapsed": false
   },
   "outputs": [],
   "source": [
    "from sklearn.model_selection import train_test_split\n",
    "\n",
    "f_train, f_test, l_train, l_test = train_test_split(features, labels, test_size=0.33, random_state=42)"
   ]
  },
  {
   "cell_type": "code",
   "execution_count": 34,
   "metadata": {
    "collapsed": false
   },
   "outputs": [
    {
     "name": "stdout",
     "output_type": "stream",
     "text": [
      "398792\n",
      "196420\n"
     ]
    }
   ],
   "source": [
    "print len(f_train)\n",
    "print len(f_test)"
   ]
  },
  {
   "cell_type": "code",
   "execution_count": 35,
   "metadata": {
    "collapsed": true
   },
   "outputs": [],
   "source": [
    "def evaluate(labels_test, pred):\n",
    "    acc = accuracy_score(labels_test, pred)\n",
    "    ps = precision_score(labels_test, pred)\n",
    "    rs = recall_score(labels_test, pred)\n",
    "\n",
    "    print \"acc:\", acc\n",
    "    print \"precision_score:\", ps\n",
    "    print \"recall_score:\", rs"
   ]
  },
  {
   "cell_type": "code",
   "execution_count": 41,
   "metadata": {
    "collapsed": false
   },
   "outputs": [
    {
     "name": "stdout",
     "output_type": "stream",
     "text": [
      "parameters: {'min_samples_split': 10, 'criterion': 'gini'}\n",
      "acc: 0.935378271052\n",
      "precision_score: 0.0514621793825\n",
      "recall_score: 0.0437378505971\n",
      "\n",
      "\n"
     ]
    }
   ],
   "source": [
    "from sklearn import tree\n",
    "from sklearn.model_selection import GridSearchCV\n",
    "from sklearn.metrics import accuracy_score, precision_score, recall_score\n",
    "\n",
    "params = {'min_samples_split':[6,7,8,9,10], 'criterion':('gini', 'entropy')}\n",
    "clf_tree = tree.DecisionTreeClassifier()\n",
    "clf = GridSearchCV(clf_tree, params)\n",
    "\n",
    "clf.fit(f_train, l_train)\n",
    "\n",
    "print \"parameters:\", clf.best_params_\n",
    "\n",
    "pred = clf.predict(f_test)\n",
    "\n",
    "evaluate(l_test, pred)\n",
    "print \"\\n\""
   ]
  },
  {
   "cell_type": "code",
   "execution_count": null,
   "metadata": {
    "collapsed": true
   },
   "outputs": [],
   "source": []
  }
 ],
 "metadata": {
  "kernelspec": {
   "display_name": "Python 2",
   "language": "python",
   "name": "python2"
  },
  "language_info": {
   "codemirror_mode": {
    "name": "ipython",
    "version": 2
   },
   "file_extension": ".py",
   "mimetype": "text/x-python",
   "name": "python",
   "nbconvert_exporter": "python",
   "pygments_lexer": "ipython2",
   "version": "2.7.10"
  }
 },
 "nbformat": 4,
 "nbformat_minor": 1
}
