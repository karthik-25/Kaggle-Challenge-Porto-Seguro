{
 "cells": [
  {
   "cell_type": "code",
   "execution_count": 16,
   "metadata": {
    "collapsed": true
   },
   "outputs": [],
   "source": [
    "import pandas\n",
    "import numpy as np"
   ]
  },
  {
   "cell_type": "code",
   "execution_count": 17,
   "metadata": {
    "collapsed": true
   },
   "outputs": [],
   "source": [
    "def replace_missing_values(df):\n",
    "    #replace missing values in categorical/binary variables with mode\n",
    "    #replace missing values in non-categorical variables with median\n",
    "\n",
    "    #column indexes for categorical variables\n",
    "    cat_indexes=[3,5,6,23,24,25,26,27,28,29,30,31,32,33]\n",
    "    #column indexes for binary variables\n",
    "    bin_indexes=[7,17,18,19,53,54,55,56,57]\n",
    "    #column indexes for non-categorical variables\n",
    "    nor_indexes=[2,4,15,16,20,21,22,34,35,36,37,38,39,40,41,42,43,44,45,46,47,48,49,50,51,52]\n",
    "    \n",
    "    for index in range (2,58):\n",
    "        name = list(df.iloc[:,[index]])[0]\n",
    "        if index in nor_indexes:\n",
    "            df[name] = df[name].fillna(df[name].median(axis=0))\n",
    "        else:\n",
    "            df[name] = df[name].fillna(df[name].mode()[0])\n",
    "    return df"
   ]
  },
  {
   "cell_type": "code",
   "execution_count": 18,
   "metadata": {
    "collapsed": false
   },
   "outputs": [],
   "source": [
    "df = pandas.read_csv('train.csv')\n",
    "#convert -1 value to NaN\n",
    "df.replace(to_replace=[-1],value=[np.nan], inplace = True)\n",
    "if df.isnull().sum().sum() != 0:\n",
    "    df = replace_missing_values(df)"
   ]
  },
  {
   "cell_type": "code",
   "execution_count": 19,
   "metadata": {
    "collapsed": true
   },
   "outputs": [],
   "source": [
    "df_test = pandas.read_csv('test.csv')\n",
    "df_test.replace(to_replace=[-1],value=[np.nan], inplace = True)\n",
    "idx = 1\n",
    "new_col = np.zeros(df_test.shape[0]) \n",
    "df_test.insert(loc=idx, column='target', value=new_col)\n",
    "if df_test.isnull().sum().sum() != 0:\n",
    "    #if there are NaN values in the data frame, proceed to replace the NaN values with median/mode\n",
    "    df_test = replace_missing_values(df_test)"
   ]
  },
  {
   "cell_type": "code",
   "execution_count": 20,
   "metadata": {
    "collapsed": true
   },
   "outputs": [],
   "source": [
    "X = df.iloc[:,2:58]\n",
    "y = df.iloc[:,1]"
   ]
  },
  {
   "cell_type": "code",
   "execution_count": 21,
   "metadata": {
    "collapsed": false
   },
   "outputs": [],
   "source": [
    "from sklearn.model_selection import train_test_split\n",
    "\n",
    "features_train, features_test, lables_train, labels_test = \\\n",
    "    train_test_split(X, y, test_size=0.33, random_state=42)"
   ]
  },
  {
   "cell_type": "code",
   "execution_count": 22,
   "metadata": {
    "collapsed": false
   },
   "outputs": [
    {
     "name": "stdout",
     "output_type": "stream",
     "text": [
      "398792\n",
      "196420\n"
     ]
    }
   ],
   "source": [
    "# checking\n",
    "print len(features_train)\n",
    "print len(features_test)"
   ]
  },
  {
   "cell_type": "code",
   "execution_count": 23,
   "metadata": {
    "collapsed": true
   },
   "outputs": [],
   "source": [
    "from sklearn.metrics import accuracy_score, precision_score, recall_score\n",
    "\n",
    "def evaluate(labels_test, pred):\n",
    "    acc = accuracy_score(labels_test, pred)\n",
    "    ps = precision_score(labels_test, pred)\n",
    "    rs = recall_score(labels_test, pred)\n",
    "\n",
    "    print \"acc:\", acc\n",
    "    print \"precision_score:\", ps\n",
    "    print \"recall_score:\", rs"
   ]
  },
  {
   "cell_type": "code",
   "execution_count": 24,
   "metadata": {
    "collapsed": false
   },
   "outputs": [
    {
     "name": "stdout",
     "output_type": "stream",
     "text": [
      "acc: 0.935062620914\n",
      "precision_score: 0.0435640309058\n",
      "recall_score: 0.0367953346293\n",
      "\n",
      "\n"
     ]
    }
   ],
   "source": [
    "from sklearn import tree\n",
    "from sklearn.model_selection import GridSearchCV\n",
    "\n",
    "#params = {'min_samples_split':[6,7,8,9,10], 'criterion':('gini', 'entropy')}\n",
    "clf_tree = tree.DecisionTreeClassifier(min_samples_split=10, criterion=\"gini\")\n",
    "#clf = GridSearchCV(clf_tree, params)\n",
    "\n",
    "clf_tree.fit(features_train, lables_train)\n",
    "\n",
    "#print \"parameters:\", clf.best_params_\n",
    "\n",
    "pred = clf_tree.predict(features_test)\n",
    "\n",
    "evaluate(labels_test, pred)\n",
    "print \"\\n\""
   ]
  },
  {
   "cell_type": "code",
   "execution_count": 26,
   "metadata": {
    "collapsed": false
   },
   "outputs": [
    {
     "name": "stdout",
     "output_type": "stream",
     "text": [
      "acc: 0.9014662458\n",
      "precision_score: 0.069200226886\n",
      "recall_score: 0.135517911691\n",
      "\n",
      "\n"
     ]
    }
   ],
   "source": [
    "from sklearn.naive_bayes import GaussianNB\n",
    "\n",
    "clf_nb = GaussianNB()\n",
    "\n",
    "clf_nb.fit(features_train, lables_train)\n",
    "\n",
    "pred = clf_nb.predict(features_test)\n",
    "\n",
    "evaluate(labels_test, pred)\n",
    "print \"\\n\""
   ]
  },
  {
   "cell_type": "code",
   "execution_count": null,
   "metadata": {
    "collapsed": true
   },
   "outputs": [],
   "source": []
  }
 ],
 "metadata": {
  "kernelspec": {
   "display_name": "Python 2",
   "language": "python",
   "name": "python2"
  },
  "language_info": {
   "codemirror_mode": {
    "name": "ipython",
    "version": 2
   },
   "file_extension": ".py",
   "mimetype": "text/x-python",
   "name": "python",
   "nbconvert_exporter": "python",
   "pygments_lexer": "ipython2",
   "version": "2.7.10"
  }
 },
 "nbformat": 4,
 "nbformat_minor": 1
}
