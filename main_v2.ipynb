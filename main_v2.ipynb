{
 "cells": [
  {
   "cell_type": "code",
   "execution_count": 29,
   "metadata": {
    "collapsed": true
   },
   "outputs": [],
   "source": [
    "import pandas\n",
    "import numpy as np\n",
    "from pprint import pprint\n",
    "import operator"
   ]
  },
  {
   "cell_type": "code",
   "execution_count": 30,
   "metadata": {
    "collapsed": true
   },
   "outputs": [],
   "source": [
    "def replace_missing_values(df):\n",
    "    #replace missing values in categorical/binary variables with mode\n",
    "    #replace missing values in non-categorical variables with median\n",
    "\n",
    "    #column indexes for categorical variables\n",
    "    cat_indexes=[3,5,6,23,24,25,26,27,28,29,30,31,32,33]\n",
    "    #column indexes for binary variables\n",
    "    bin_indexes=[7,17,18,19,53,54,55,56,57]\n",
    "    #column indexes for non-categorical variables\n",
    "    nor_indexes=[2,4,15,16,20,21,22,34,35,36,37,38,39,40,41,42,43,44,45,46,47,48,49,50,51,52]\n",
    "    \n",
    "    for index in range (2,59):\n",
    "        name = list(df.iloc[:,[index]])[0]\n",
    "        if index in nor_indexes:\n",
    "            df[name] = df[name].fillna(df[name].median(axis=0))\n",
    "        else:\n",
    "            df[name] = df[name].fillna(df[name].mode()[0])\n",
    "    return df\n",
    "\n",
    "\n",
    "# just some evaluation if needed\n",
    "from sklearn.metrics import accuracy_score, precision_score, recall_score\n",
    "\n",
    "def evaluate(labels_test, pred):\n",
    "    acc = accuracy_score(labels_test, pred)\n",
    "    ps = precision_score(labels_test, pred)\n",
    "    rs = recall_score(labels_test, pred)\n",
    "\n",
    "    print \"acc:\", acc\n",
    "    print \"precision_score:\", ps\n",
    "    print \"recall_score:\", rs"
   ]
  },
  {
   "cell_type": "code",
   "execution_count": 31,
   "metadata": {
    "collapsed": false
   },
   "outputs": [],
   "source": [
    "df = pandas.read_csv('train.csv')\n",
    "#convert -1 value to NaN\n",
    "df.replace(to_replace=[-1],value=[np.nan], inplace = True)\n",
    "if df.isnull().sum().sum() != 0:\n",
    "    df = replace_missing_values(df)"
   ]
  },
  {
   "cell_type": "code",
   "execution_count": 32,
   "metadata": {
    "collapsed": true
   },
   "outputs": [],
   "source": [
    "df_test = pandas.read_csv('test.csv')\n",
    "df_test.replace(to_replace=[-1],value=[np.nan], inplace = True)\n",
    "idx = 1\n",
    "new_col = np.zeros(df_test.shape[0]) \n",
    "df_test.insert(loc=idx, column='target', value=new_col)\n",
    "if df_test.isnull().sum().sum() != 0:\n",
    "    #if there are NaN values in the data frame, proceed to replace the NaN values with median/mode\n",
    "    df_test = replace_missing_values(df_test)"
   ]
  },
  {
   "cell_type": "code",
   "execution_count": 33,
   "metadata": {
    "collapsed": true
   },
   "outputs": [],
   "source": [
    "X = df.iloc[:,2:59]\n",
    "y = df.iloc[:,1]"
   ]
  },
  {
   "cell_type": "code",
   "execution_count": 34,
   "metadata": {
    "collapsed": false
   },
   "outputs": [],
   "source": [
    "# from sklearn.model_selection import train_test_split\n",
    "\n",
    "# features_train, features_test, labels_train, labels_test = \\\n",
    "#     train_test_split(X, y, test_size=0.33, random_state=42)"
   ]
  },
  {
   "cell_type": "code",
   "execution_count": 51,
   "metadata": {
    "collapsed": true
   },
   "outputs": [],
   "source": [
    "from sklearn.feature_selection import SelectKBest, f_classif\n",
    "\n",
    "num_of_features = 10\n",
    "\n",
    "selector = SelectKBest(f_classif, k=num_of_features)\n",
    "selector.fit(X, y)\n",
    "\n",
    "new_X = selector.transform(X)"
   ]
  },
  {
   "cell_type": "code",
   "execution_count": 52,
   "metadata": {
    "collapsed": false
   },
   "outputs": [
    {
     "name": "stdout",
     "output_type": "stream",
     "text": [
      "ps_reg_03\n",
      "ps_ind_06_bin\n",
      "ps_ind_07_bin\n",
      "ps_reg_02\n",
      "ps_ind_17_bin\n",
      "ps_car_12\n",
      "ps_car_13\n"
     ]
    }
   ],
   "source": [
    "feature_list = list(X)\n",
    "\n",
    "scores = selector.scores_\n",
    "\n",
    "feature_select_idx_list = sorted(range(len(scores)), key=lambda i: scores[i])[-num_of_features:]\n",
    "\n",
    "# To view the features being selected. The importance is sorted in ascending.\n",
    "for i in feature_select_idx_list:\n",
    "    print feature_list[i]"
   ]
  },
  {
   "cell_type": "code",
   "execution_count": 53,
   "metadata": {
    "collapsed": false
   },
   "outputs": [],
   "source": [
    "# feature_score_dict = {}\n",
    "# for i in range(len(feature_list)):\n",
    "#     feature_score_dict[feature_list[i]] = scores[i]\n",
    "\n",
    "# feature_score_tup_sorted = sorted(feature_score_dict.items(), key=operator.itemgetter(1), reverse=True)\n",
    "# pprint (feature_score_tup_sorted[:10])\n",
    "\n",
    "# col_names = list(df)\n",
    "# col_names.pop(0)\n",
    "# col_names.pop(0)\n",
    "\n",
    "# print col_names\n",
    "# print len(col_names)"
   ]
  },
  {
   "cell_type": "code",
   "execution_count": 54,
   "metadata": {
    "collapsed": true
   },
   "outputs": [],
   "source": [
    "# features_train, features_test, labels_train, labels_test = \\\n",
    "#     train_test_split(new_X, y, test_size=0.2, random_state=42)"
   ]
  },
  {
   "cell_type": "code",
   "execution_count": 8,
   "metadata": {
    "collapsed": false
   },
   "outputs": [
    {
     "name": "stdout",
     "output_type": "stream",
     "text": [
      "parameters: {'min_samples_split': 65, 'criterion': 'gini'}\n"
     ]
    }
   ],
   "source": [
    "from sklearn import tree\n",
    "from sklearn.model_selection import GridSearchCV\n",
    "\n",
    "params = {'min_samples_split':[45,50,55,60,65], 'criterion':('gini', 'entropy')}\n",
    "clf_tree = tree.DecisionTreeClassifier()\n",
    "clf = GridSearchCV(clf_tree, params)\n",
    "\n",
    "clf.fit(new_X, y)\n",
    "\n",
    "print \"parameters:\", clf.best_params_\n",
    "\n",
    "#pred = clf.predict(features_test)"
   ]
  },
  {
   "cell_type": "code",
   "execution_count": 55,
   "metadata": {
    "collapsed": false
   },
   "outputs": [
    {
     "data": {
      "text/plain": [
       "GaussianNB(priors=None)"
      ]
     },
     "execution_count": 55,
     "metadata": {},
     "output_type": "execute_result"
    }
   ],
   "source": [
    "from sklearn.naive_bayes import GaussianNB\n",
    "\n",
    "clf = GaussianNB()\n",
    "\n",
    "clf.fit(new_X, y)"
   ]
  },
  {
   "cell_type": "code",
   "execution_count": 56,
   "metadata": {
    "collapsed": false
   },
   "outputs": [],
   "source": [
    "mod_feature_select_idx_list = []\n",
    "for idx in feature_select_idx_list:\n",
    "    mod_feature_select_idx_list.append(idx+2)\n",
    "    \n",
    "X_test = df_test.iloc[:, mod_feature_select_idx_list]"
   ]
  },
  {
   "cell_type": "code",
   "execution_count": 57,
   "metadata": {
    "collapsed": false
   },
   "outputs": [],
   "source": [
    "prob = clf.predict_proba(X_test)\n",
    "\n",
    "y_result = pandas.DataFrame(prob)\n",
    "\n",
    "#print y_result.head()\n",
    "#evaluate(labels_test, pred)\n",
    "#print \"\\n\""
   ]
  },
  {
   "cell_type": "code",
   "execution_count": 58,
   "metadata": {
    "collapsed": false
   },
   "outputs": [],
   "source": [
    "result_df = pandas.concat([df_test['id'], y_result[1]], axis=1, keys=['id', 'target'])\n",
    "\n",
    "result_df.to_csv(\"result_df.csv\", index=False)"
   ]
  },
  {
   "cell_type": "code",
   "execution_count": null,
   "metadata": {
    "collapsed": true
   },
   "outputs": [],
   "source": []
  }
 ],
 "metadata": {
  "kernelspec": {
   "display_name": "Python 2",
   "language": "python",
   "name": "python2"
  },
  "language_info": {
   "codemirror_mode": {
    "name": "ipython",
    "version": 2
   },
   "file_extension": ".py",
   "mimetype": "text/x-python",
   "name": "python",
   "nbconvert_exporter": "python",
   "pygments_lexer": "ipython2",
   "version": "2.7.10"
  }
 },
 "nbformat": 4,
 "nbformat_minor": 1
}
